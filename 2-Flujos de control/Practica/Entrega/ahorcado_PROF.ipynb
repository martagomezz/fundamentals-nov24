{
 "cells": [
  {
   "attachments": {},
   "cell_type": "markdown",
   "metadata": {},
   "source": [
    "## Juego del Ahorcado\n",
    "Desarrolla el juego del ahorcado en python. En cada turno irá mostrando por pantalla ```_ _ _ _ _``` las rayas bajas correspondientes al número de letras que tiene la palabra a adivinar. El usuario deberá insertar una letra y, si esa letra existe, se mostrará o mostrarán las letras acertadas ```S _ S _ _``` en sus posiciones correspondientes. \n",
    "\n",
    "Si falla, se mostrará el número de errores que lleva y, si lleva x errores, entonces se mostrará \"Fin del juego\"."
   ]
  },
  {
   "cell_type": "markdown",
   "metadata": {},
   "source": [
    "1. Inicializa el juego: declara una palabra a adivinar y muestra por pantalla la palabra oculta. (En clase)\n"
   ]
  },
  {
   "cell_type": "markdown",
   "metadata": {},
   "source": [
    "\n",
    "```python\n",
    "_ _ _ _ _ _ _ _\n",
    "```"
   ]
  },
  {
   "cell_type": "code",
   "execution_count": 1,
   "metadata": {},
   "outputs": [],
   "source": [
    "p_adivinar = \"bootcamp\""
   ]
  },
  {
   "cell_type": "code",
   "execution_count": 7,
   "metadata": {},
   "outputs": [
    {
     "name": "stdout",
     "output_type": "stream",
     "text": [
      "_ _ _ _ _ _ _ _\n"
     ]
    }
   ],
   "source": [
    "print(*list(\"_\"*len(p_adivinar)))"
   ]
  },
  {
   "cell_type": "code",
   "execution_count": 12,
   "metadata": {},
   "outputs": [],
   "source": [
    "p_oculta = list(\"_\"*len(p_adivinar))"
   ]
  },
  {
   "cell_type": "markdown",
   "metadata": {},
   "source": [
    "2. Funcionamiento turnos: mediante un bucle genera el sistema de turnos donde el usuario introduce una letra y le va mostrando su progreso y sus vidas. (En clase)"
   ]
  },
  {
   "cell_type": "code",
   "execution_count": 13,
   "metadata": {},
   "outputs": [
    {
     "name": "stdout",
     "output_type": "stream",
     "text": [
      "_ _ _ _ _ _ _ _\n",
      "Has fallado\n",
      "_ _ _ _ _ _ _ _\n",
      "Has fallado\n",
      "_ _ _ _ _ _ _ _\n",
      "Has fallado\n"
     ]
    }
   ],
   "source": [
    "vidas = 3\n",
    "\n",
    "while vidas > 0:\n",
    "    print(*p_oculta)\n",
    "    letra_usuario = input(\"Introduce letra\")\n",
    "\n",
    "    if letra_usuario in p_adivinar:\n",
    "        print(\"Has acertado\")\n",
    "    else:\n",
    "        print(\"Has fallado\")\n",
    "        vidas = vidas - 1"
   ]
  },
  {
   "cell_type": "code",
   "execution_count": 15,
   "metadata": {},
   "outputs": [
    {
     "name": "stdout",
     "output_type": "stream",
     "text": [
      "bootcamp\n",
      "['_', '_', '_', '_', '_', '_', '_', '_']\n"
     ]
    }
   ],
   "source": [
    "print(p_adivinar)\n",
    "print(p_oculta)"
   ]
  },
  {
   "cell_type": "code",
   "execution_count": 19,
   "metadata": {},
   "outputs": [
    {
     "name": "stdout",
     "output_type": "stream",
     "text": [
      "['b', 'o', 'o', '_', 'c', 'a', '_', '_']\n"
     ]
    }
   ],
   "source": [
    "letra_usuario = \"a\"\n",
    "for i, letra in enumerate(p_adivinar):\n",
    "    if letra == letra_usuario:\n",
    "        p_oculta[i] = letra\n",
    "print(p_oculta)"
   ]
  },
  {
   "cell_type": "code",
   "execution_count": 20,
   "metadata": {},
   "outputs": [
    {
     "name": "stdout",
     "output_type": "stream",
     "text": [
      "b o o _ c a _ _\n",
      "Has acertado\n",
      "b o o _ c a m _\n",
      "Has acertado\n",
      "b o o t c a m _\n",
      "Has acertado\n",
      "b o o t c a m p\n",
      "Has acertado\n",
      "b o o t c a m p\n"
     ]
    },
    {
     "ename": "KeyboardInterrupt",
     "evalue": "Interrupted by user",
     "output_type": "error",
     "traceback": [
      "\u001b[1;31m---------------------------------------------------------------------------\u001b[0m",
      "\u001b[1;31mKeyboardInterrupt\u001b[0m                         Traceback (most recent call last)",
      "\u001b[1;32md:\\Carpeta_profesor\\2309_dsft_thebridge\\1-Ramp_Up\\Python\\Repaso\\ahorcado.ipynb Cell 10\u001b[0m line \u001b[0;36m5\n\u001b[0;32m      <a href='vscode-notebook-cell:/d%3A/Carpeta_profesor/2309_dsft_thebridge/1-Ramp_Up/Python/Repaso/ahorcado.ipynb#X20sZmlsZQ%3D%3D?line=2'>3</a>\u001b[0m \u001b[39mwhile\u001b[39;00m vidas \u001b[39m>\u001b[39m \u001b[39m0\u001b[39m:\n\u001b[0;32m      <a href='vscode-notebook-cell:/d%3A/Carpeta_profesor/2309_dsft_thebridge/1-Ramp_Up/Python/Repaso/ahorcado.ipynb#X20sZmlsZQ%3D%3D?line=3'>4</a>\u001b[0m     \u001b[39mprint\u001b[39m(\u001b[39m*\u001b[39mp_oculta)\n\u001b[1;32m----> <a href='vscode-notebook-cell:/d%3A/Carpeta_profesor/2309_dsft_thebridge/1-Ramp_Up/Python/Repaso/ahorcado.ipynb#X20sZmlsZQ%3D%3D?line=4'>5</a>\u001b[0m     letra_usuario \u001b[39m=\u001b[39m \u001b[39minput\u001b[39;49m(\u001b[39m\"\u001b[39;49m\u001b[39mIntroduce letra\u001b[39;49m\u001b[39m\"\u001b[39;49m)\n\u001b[0;32m      <a href='vscode-notebook-cell:/d%3A/Carpeta_profesor/2309_dsft_thebridge/1-Ramp_Up/Python/Repaso/ahorcado.ipynb#X20sZmlsZQ%3D%3D?line=6'>7</a>\u001b[0m     \u001b[39mif\u001b[39;00m letra_usuario \u001b[39min\u001b[39;00m p_adivinar:\n\u001b[0;32m      <a href='vscode-notebook-cell:/d%3A/Carpeta_profesor/2309_dsft_thebridge/1-Ramp_Up/Python/Repaso/ahorcado.ipynb#X20sZmlsZQ%3D%3D?line=7'>8</a>\u001b[0m         \u001b[39mprint\u001b[39m(\u001b[39m\"\u001b[39m\u001b[39mHas acertado\u001b[39m\u001b[39m\"\u001b[39m)\n",
      "File \u001b[1;32m~\\AppData\\Roaming\\Python\\Python311\\site-packages\\ipykernel\\kernelbase.py:1202\u001b[0m, in \u001b[0;36mKernel.raw_input\u001b[1;34m(self, prompt)\u001b[0m\n\u001b[0;32m   1200\u001b[0m     msg \u001b[39m=\u001b[39m \u001b[39m\"\u001b[39m\u001b[39mraw_input was called, but this frontend does not support input requests.\u001b[39m\u001b[39m\"\u001b[39m\n\u001b[0;32m   1201\u001b[0m     \u001b[39mraise\u001b[39;00m StdinNotImplementedError(msg)\n\u001b[1;32m-> 1202\u001b[0m \u001b[39mreturn\u001b[39;00m \u001b[39mself\u001b[39;49m\u001b[39m.\u001b[39;49m_input_request(\n\u001b[0;32m   1203\u001b[0m     \u001b[39mstr\u001b[39;49m(prompt),\n\u001b[0;32m   1204\u001b[0m     \u001b[39mself\u001b[39;49m\u001b[39m.\u001b[39;49m_parent_ident[\u001b[39m\"\u001b[39;49m\u001b[39mshell\u001b[39;49m\u001b[39m\"\u001b[39;49m],\n\u001b[0;32m   1205\u001b[0m     \u001b[39mself\u001b[39;49m\u001b[39m.\u001b[39;49mget_parent(\u001b[39m\"\u001b[39;49m\u001b[39mshell\u001b[39;49m\u001b[39m\"\u001b[39;49m),\n\u001b[0;32m   1206\u001b[0m     password\u001b[39m=\u001b[39;49m\u001b[39mFalse\u001b[39;49;00m,\n\u001b[0;32m   1207\u001b[0m )\n",
      "File \u001b[1;32m~\\AppData\\Roaming\\Python\\Python311\\site-packages\\ipykernel\\kernelbase.py:1245\u001b[0m, in \u001b[0;36mKernel._input_request\u001b[1;34m(self, prompt, ident, parent, password)\u001b[0m\n\u001b[0;32m   1242\u001b[0m \u001b[39mexcept\u001b[39;00m \u001b[39mKeyboardInterrupt\u001b[39;00m:\n\u001b[0;32m   1243\u001b[0m     \u001b[39m# re-raise KeyboardInterrupt, to truncate traceback\u001b[39;00m\n\u001b[0;32m   1244\u001b[0m     msg \u001b[39m=\u001b[39m \u001b[39m\"\u001b[39m\u001b[39mInterrupted by user\u001b[39m\u001b[39m\"\u001b[39m\n\u001b[1;32m-> 1245\u001b[0m     \u001b[39mraise\u001b[39;00m \u001b[39mKeyboardInterrupt\u001b[39;00m(msg) \u001b[39mfrom\u001b[39;00m \u001b[39mNone\u001b[39;00m\n\u001b[0;32m   1246\u001b[0m \u001b[39mexcept\u001b[39;00m \u001b[39mException\u001b[39;00m:\n\u001b[0;32m   1247\u001b[0m     \u001b[39mself\u001b[39m\u001b[39m.\u001b[39mlog\u001b[39m.\u001b[39mwarning(\u001b[39m\"\u001b[39m\u001b[39mInvalid Message:\u001b[39m\u001b[39m\"\u001b[39m, exc_info\u001b[39m=\u001b[39m\u001b[39mTrue\u001b[39;00m)\n",
      "\u001b[1;31mKeyboardInterrupt\u001b[0m: Interrupted by user"
     ]
    }
   ],
   "source": [
    "vidas = 3\n",
    "\n",
    "while vidas > 0:\n",
    "    print(*p_oculta)\n",
    "    letra_usuario = input(\"Introduce letra\")\n",
    "\n",
    "    if letra_usuario in p_adivinar:\n",
    "        print(\"Has acertado\")\n",
    "        for i, letra in enumerate(p_adivinar):\n",
    "            if letra == letra_usuario:\n",
    "                p_oculta[i] = letra\n",
    "    else:\n",
    "        print(\"Has fallado\")\n",
    "        vidas = vidas - 1"
   ]
  },
  {
   "cell_type": "markdown",
   "metadata": {},
   "source": [
    "3. Desarrolla la finalización de la partida, tanto si gana como si pierde."
   ]
  },
  {
   "cell_type": "code",
   "execution_count": 23,
   "metadata": {},
   "outputs": [
    {
     "name": "stdout",
     "output_type": "stream",
     "text": [
      "_ _ _ _ _ _ _ _\n",
      "Has acertado\n",
      "b _ _ _ _ _ _ _\n",
      "Has acertado\n",
      "b o o _ _ _ _ _\n",
      "Has acertado\n",
      "b o o t _ _ _ _\n",
      "Has acertado\n",
      "b o o t c _ _ _\n",
      "Has acertado\n",
      "b o o t c a _ _\n",
      "Has acertado\n",
      "b o o t c a m _\n",
      "Has acertado\n",
      "Has ganado\n"
     ]
    }
   ],
   "source": [
    "p_adivinar = \"bootcamp\"\n",
    "p_oculta = list(\"_\"*len(p_adivinar))\n",
    "\n",
    "vidas = 3\n",
    "\n",
    "while vidas > 0 and \"_\" in p_oculta:\n",
    "    print(*p_oculta)\n",
    "    letra_usuario = input(\"Introduce letra\")\n",
    "\n",
    "    if letra_usuario in p_adivinar:\n",
    "        print(\"Has acertado\")\n",
    "        for i, letra in enumerate(p_adivinar):\n",
    "            if letra == letra_usuario:\n",
    "                p_oculta[i] = letra\n",
    "    else:\n",
    "        print(\"Has fallado\")\n",
    "        vidas = vidas - 1\n",
    "        print(\"Te quedan\", vidas, \"vidas\")\n",
    "\n",
    "if vidas > 0:\n",
    "    print(\"Has ganado\")\n",
    "else:\n",
    "    print(\"Has perdido\")"
   ]
  },
  {
   "cell_type": "markdown",
   "metadata": {},
   "source": [
    "4. Encapsula el juego en una función llamada ```jugar_ahorcado()``` con la palabra a adivinar y el número de vidas para seleccionar la dificultad como argumentos de entrada."
   ]
  },
  {
   "cell_type": "code",
   "execution_count": 2,
   "metadata": {},
   "outputs": [],
   "source": [
    "def jugar_ahorcado(p_adivinar, vidas):\n",
    "\n",
    "    p_oculta = list(\"_\"*len(p_adivinar))\n",
    "\n",
    "    while vidas > 0 and \"_\" in p_oculta:\n",
    "        print(*p_oculta)\n",
    "        letra_usuario = input(\"Introduce letra\")\n",
    "\n",
    "        if letra_usuario in p_adivinar:\n",
    "            print(\"Has acertado\")\n",
    "            for i, letra in enumerate(p_adivinar):\n",
    "                if letra == letra_usuario:\n",
    "                    p_oculta[i] = letra\n",
    "        else:\n",
    "            print(\"Has fallado\")\n",
    "            vidas = vidas - 1\n",
    "            print(\"Te quedan\", vidas, \"vidas\")\n",
    "\n",
    "    if vidas > 0:\n",
    "        print(\"Has ganado\")\n",
    "    else:\n",
    "        print(\"Has perdido\")"
   ]
  },
  {
   "cell_type": "code",
   "execution_count": 3,
   "metadata": {},
   "outputs": [
    {
     "name": "stdout",
     "output_type": "stream",
     "text": [
      "_ _ _ _ _ _\n",
      "Has acertado\n",
      "p _ _ _ _ _\n",
      "Has fallado\n",
      "Te quedan 2 vidas\n",
      "p _ _ _ _ _\n",
      "Has acertado\n",
      "p y _ _ _ _\n",
      "Has acertado\n",
      "p y t _ _ _\n",
      "Has acertado\n",
      "p y t h _ _\n",
      "Has acertado\n",
      "p y t h o _\n",
      "Has acertado\n",
      "Has ganado\n"
     ]
    }
   ],
   "source": [
    "jugar_ahorcado(\"python\", 3)"
   ]
  },
  {
   "cell_type": "markdown",
   "metadata": {},
   "source": [
    "5. Termina el juego\n",
    "\n",
    "- **Encapsula la lógica del juego en una función** llamada `jugar_ahorcado` en un archivo `utils.py`.\n",
    "- **Crea un archivo `main.py`** desde donde se ejecutará el juego importando la función `jugar_ahorcado`.\n",
    "- **Prueba el juego desde la terminal** para asegurarte de que funciona correctamente.\n",
    "- **Sube tu proyecto a un repositorio en GitHub**.\n",
    "- **Presenta tu juego a tus compañeros**\n",
    "\n",
    "Cada uno realizará una presentación el **viernes 29 de noviembre**, donde se contarán con **10 minutos máximo**, importante ceñirse al tiempo. Se tendrá que enseñar:\n",
    "1. El git clone del repositorio de github a tu ordenador y explicar las partes más relevantes del código.\n",
    "2. Una demo donde se muestre el correcto funcionamiento del código para jugar, ejecutándose desde terminal"
   ]
  }
 ],
 "metadata": {
  "kernelspec": {
   "display_name": "Python 3.7.4 64-bit",
   "language": "python",
   "name": "python3"
  },
  "language_info": {
   "codemirror_mode": {
    "name": "ipython",
    "version": 3
   },
   "file_extension": ".py",
   "mimetype": "text/x-python",
   "name": "python",
   "nbconvert_exporter": "python",
   "pygments_lexer": "ipython3",
   "version": "3.11.3"
  },
  "orig_nbformat": 4,
  "vscode": {
   "interpreter": {
    "hash": "90139cb9a825bf3d63f6f6704e828dbd1ff7edbd4d0c6e906a71235d6efc74af"
   }
  }
 },
 "nbformat": 4,
 "nbformat_minor": 2
}
