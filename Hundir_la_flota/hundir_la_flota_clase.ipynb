{
 "cells": [
  {
   "cell_type": "markdown",
   "metadata": {},
   "source": [
    "# creamos el tablero"
   ]
  },
  {
   "cell_type": "code",
   "execution_count": 19,
   "metadata": {},
   "outputs": [],
   "source": [
    "def crear_tablero(tamano=10):\n",
    "    \"\"\"\n",
    "    Funcion que crea el tablero. \n",
    "\n",
    "    Args: tamano - el tamaño del tablero\n",
    "\n",
    "    returns -> una lista de tamano x tamano llena de \"-\" \n",
    "\n",
    "    \"\"\"\n",
    "    \n",
    "    tablero = []\n",
    "\n",
    "    for i in range(tamano):\n",
    "        fila = []\n",
    "        for j in range(tamano):\n",
    "            fila.append(\"_\")\n",
    "        tablero.append(fila)\n",
    "    \n",
    "    return tablero"
   ]
  },
  {
   "cell_type": "code",
   "execution_count": 26,
   "metadata": {},
   "outputs": [
    {
     "data": {
      "text/plain": [
       "[['_', '_', '_', '_', '_', '_', '_', '_', '_', '_'],\n",
       " ['_', '_', '_', '_', '_', '_', '_', '_', '_', '_'],\n",
       " ['_', '_', '_', '_', '_', '_', '_', '_', '_', '_'],\n",
       " ['_', '_', '_', '_', '_', '_', '_', '_', '_', '_'],\n",
       " ['_', '_', '_', '_', '_', '_', '_', '_', '_', '_'],\n",
       " ['_', '_', '_', '_', '_', '_', '_', '_', '_', '_'],\n",
       " ['_', '_', '_', '_', '_', '_', '_', '_', '_', '_'],\n",
       " ['_', '_', '_', '_', '_', '_', '_', '_', '_', '_'],\n",
       " ['_', '_', '_', '_', '_', '_', '_', '_', '_', '_'],\n",
       " ['_', '_', '_', '_', '_', '_', '_', '_', '_', '_']]"
      ]
     },
     "execution_count": 26,
     "metadata": {},
     "output_type": "execute_result"
    }
   ],
   "source": [
    "crear_tablero()"
   ]
  },
  {
   "cell_type": "markdown",
   "metadata": {},
   "source": [
    "¿Cómo lo haríamos con numpy?"
   ]
  },
  {
   "cell_type": "code",
   "execution_count": 6,
   "metadata": {},
   "outputs": [],
   "source": [
    "#importamos la librería\n",
    "\n",
    "import numpy as np"
   ]
  },
  {
   "cell_type": "code",
   "execution_count": 52,
   "metadata": {},
   "outputs": [
    {
     "name": "stdout",
     "output_type": "stream",
     "text": [
      "[['_' '_' '_' '_' '_' '_' '_' '_' '_' '_']\n",
      " ['_' '_' '_' '_' '_' '_' '_' '_' '_' '_']\n",
      " ['_' '_' '_' '_' '_' '_' '_' '_' '_' '_']\n",
      " ['_' '_' '_' '_' '_' '_' '_' '_' '_' '_']\n",
      " ['_' '_' '_' '_' '_' '_' '_' '_' '_' '_']\n",
      " ['_' '_' '_' '_' '_' '_' '_' '_' '_' '_']\n",
      " ['_' '_' '_' '_' '_' '_' '_' '_' '_' '_']\n",
      " ['_' '_' '_' '_' '_' '_' '_' '_' '_' '_']\n",
      " ['_' '_' '_' '_' '_' '_' '_' '_' '_' '_']\n",
      " ['_' '_' '_' '_' '_' '_' '_' '_' '_' '_']]\n"
     ]
    }
   ],
   "source": [
    "#Utilizamos la función np.full para pintar una matriz de 10 por 10 \n",
    "\n",
    "tablero = np.full((10,10), \"_\")\n",
    "print(tablero)"
   ]
  },
  {
   "cell_type": "code",
   "execution_count": 53,
   "metadata": {},
   "outputs": [
    {
     "name": "stdout",
     "output_type": "stream",
     "text": [
      "[['A' '_' '_' '_' '_' '_' '_' '_' '_' '_']\n",
      " ['_' '_' '_' '_' '_' '_' '_' '_' '_' '_']\n",
      " ['_' '_' '_' '_' '_' '_' '_' '_' '_' '_']\n",
      " ['_' '_' '_' '_' '_' '_' '_' '_' '_' '_']\n",
      " ['_' '_' '_' '_' '_' '_' '_' '_' '_' '_']\n",
      " ['_' '_' '_' '_' '_' '_' '_' '_' '_' '_']\n",
      " ['_' '_' '_' '_' '_' '_' '_' '_' '_' '_']\n",
      " ['_' '_' '_' '_' '_' '_' '_' '_' '_' '_']\n",
      " ['_' '_' '_' '_' '_' '_' '_' '_' '_' '_']\n",
      " ['_' '_' '_' '_' '_' '_' '_' '_' '_' 'A']]\n"
     ]
    }
   ],
   "source": [
    "tablero[0][0] = \"A\" # tablero[fila][columna]\n",
    "tablero[0,0] = \"A\" # tablero[fila,columna]\n",
    "tablero[(0,0)] = \"A\" # tablero[(fila,columna)]\n",
    "tablero[9][9] = \"A\" # tablero[fila][columna]\n",
    "print(tablero)"
   ]
  },
  {
   "cell_type": "code",
   "execution_count": 54,
   "metadata": {},
   "outputs": [],
   "source": [
    "barco_1 = [(0,1), (1,1)] \n",
    "barco_2 = [(1,3), (1,4), (1,5), (1,6)]\n"
   ]
  },
  {
   "cell_type": "code",
   "execution_count": 55,
   "metadata": {},
   "outputs": [
    {
     "name": "stdout",
     "output_type": "stream",
     "text": [
      "[['A' 'O' '_' '_' '_' '_' '_' '_' '_' '_']\n",
      " ['_' 'O' '_' 'O' 'O' 'O' 'O' '_' '_' '_']\n",
      " ['_' '_' '_' '_' '_' '_' '_' '_' '_' '_']\n",
      " ['_' '_' '_' '_' '_' '_' '_' '_' '_' '_']\n",
      " ['_' '_' '_' '_' '_' '_' '_' '_' '_' '_']\n",
      " ['_' '_' '_' '_' '_' '_' '_' '_' '_' '_']\n",
      " ['_' '_' '_' '_' '_' '_' '_' '_' '_' '_']\n",
      " ['_' '_' '_' '_' '_' '_' '_' '_' '_' '_']\n",
      " ['_' '_' '_' '_' '_' '_' '_' '_' '_' '_']\n",
      " ['_' '_' '_' '_' '_' '_' '_' '_' '_' 'A']]\n"
     ]
    }
   ],
   "source": [
    "# tablero[(0,1)] = \"O\"\n",
    "for casilla in barco_1:\n",
    "    tablero[casilla] = \"O\"\n",
    "for casilla in barco_2:\n",
    "    tablero[casilla] = \"O\"\n",
    "print(tablero)"
   ]
  },
  {
   "cell_type": "code",
   "execution_count": 69,
   "metadata": {},
   "outputs": [],
   "source": [
    "def tablero(tamano=10):\n",
    "    tablero= np.full((10,10), \"_\")\n",
    "    return tablero\n"
   ]
  },
  {
   "cell_type": "code",
   "execution_count": 70,
   "metadata": {},
   "outputs": [],
   "source": [
    "tablero_user= tablero()\n",
    "tablero_pc=tablero()"
   ]
  },
  {
   "cell_type": "code",
   "execution_count": 71,
   "metadata": {},
   "outputs": [
    {
     "name": "stdout",
     "output_type": "stream",
     "text": [
      "tablero del usuario\n",
      "[['_' '_' '_' '_' '_' '_' '_' '_' '_' '_']\n",
      " ['_' '_' '_' '_' '_' '_' '_' '_' '_' '_']\n",
      " ['_' '_' '_' '_' '_' '_' '_' '_' '_' '_']\n",
      " ['_' '_' '_' '_' '_' '_' '_' '_' '_' '_']\n",
      " ['_' '_' '_' '_' '_' '_' '_' '_' '_' '_']\n",
      " ['_' '_' '_' '_' '_' '_' '_' '_' '_' '_']\n",
      " ['_' '_' '_' '_' '_' '_' '_' '_' '_' '_']\n",
      " ['_' '_' '_' '_' '_' '_' '_' '_' '_' '_']\n",
      " ['_' '_' '_' '_' '_' '_' '_' '_' '_' '_']\n",
      " ['_' '_' '_' '_' '_' '_' '_' '_' '_' '_']]\n"
     ]
    }
   ],
   "source": [
    "print(\"tablero del usuario\")\n",
    "print(tablero_user)"
   ]
  },
  {
   "cell_type": "code",
   "execution_count": 72,
   "metadata": {},
   "outputs": [
    {
     "name": "stdout",
     "output_type": "stream",
     "text": [
      "tablero de la máquina\n",
      "[['_' '_' '_' '_' '_' '_' '_' '_' '_' '_']\n",
      " ['_' '_' '_' '_' '_' '_' '_' '_' '_' '_']\n",
      " ['_' '_' '_' '_' '_' '_' '_' '_' '_' '_']\n",
      " ['_' '_' '_' '_' '_' '_' '_' '_' '_' '_']\n",
      " ['_' '_' '_' '_' '_' '_' '_' '_' '_' '_']\n",
      " ['_' '_' '_' '_' '_' '_' '_' '_' '_' '_']\n",
      " ['_' '_' '_' '_' '_' '_' '_' '_' '_' '_']\n",
      " ['_' '_' '_' '_' '_' '_' '_' '_' '_' '_']\n",
      " ['_' '_' '_' '_' '_' '_' '_' '_' '_' '_']\n",
      " ['_' '_' '_' '_' '_' '_' '_' '_' '_' '_']]\n"
     ]
    }
   ],
   "source": [
    "print(\"tablero de la máquina\")\n",
    "print(tablero_pc)"
   ]
  },
  {
   "cell_type": "code",
   "execution_count": 102,
   "metadata": {},
   "outputs": [],
   "source": [
    "def colocar_barco(barco, tablero):\n",
    "    for coordenada in barco:\n",
    "        tablero[coordenada] = \"O\"\n",
    "    return tablero"
   ]
  },
  {
   "cell_type": "markdown",
   "metadata": {},
   "source": [
    "Aqui creamos los barcos de forma manual para posicionarlos"
   ]
  },
  {
   "cell_type": "code",
   "execution_count": 76,
   "metadata": {},
   "outputs": [],
   "source": [
    "tablero_manual=tablero() #creo un tablero nuevo para este ejemplo"
   ]
  },
  {
   "cell_type": "code",
   "execution_count": 77,
   "metadata": {},
   "outputs": [
    {
     "name": "stdout",
     "output_type": "stream",
     "text": [
      "[['_' '_' '_' '_' '_' '_' '_' '_' '_' '_']\n",
      " ['_' '_' '_' '_' '_' '_' '_' '_' '_' '_']\n",
      " ['_' '_' '_' '_' '_' '_' '_' '_' '_' '_']\n",
      " ['_' '_' '_' '_' '_' '_' '_' '_' '_' '_']\n",
      " ['_' '_' '_' '_' '_' '_' '_' '_' '_' '_']\n",
      " ['_' '_' '_' '_' '_' '_' '_' '_' '_' '_']\n",
      " ['_' '_' '_' '_' '_' '_' '_' '_' '_' '_']\n",
      " ['_' '_' '_' '_' '_' '_' '_' '_' '_' '_']\n",
      " ['_' '_' '_' '_' '_' '_' '_' '_' '_' '_']\n",
      " ['_' '_' '_' '_' '_' '_' '_' '_' '_' '_']]\n"
     ]
    }
   ],
   "source": [
    "print(tablero_manual)"
   ]
  },
  {
   "cell_type": "code",
   "execution_count": 78,
   "metadata": {},
   "outputs": [],
   "source": [
    "#creamos los barcos de forma manual\n",
    "\n",
    "barco_1 = [(0,1), (1,1)] \n",
    "barco_2 = [(1,3), (1,4), (1,5), (1,6)]\n",
    "barco_3 = [(4,4),(4,5)]\n",
    "barco_4 = [(8,8), (8,9)] \n",
    "barco_5 = [(8,1), (8,2), (8,3)] \n",
    "barco_6 = [(0,9),(1,9),(2,9)]"
   ]
  },
  {
   "cell_type": "code",
   "execution_count": 79,
   "metadata": {},
   "outputs": [],
   "source": [
    "#posicionar los barcos, uno a uno, llamando a la funcion de posicionar barcos.\n",
    "tablero_manual = colocar_barco(barco_1, tablero_manual)\n",
    "tablero_manual = colocar_barco(barco_2, tablero_manual)\n",
    "tablero_manual= colocar_barco(barco_3, tablero_manual)\n",
    "tablero_manual = colocar_barco(barco_4, tablero_manual)\n",
    "tablero_manual = colocar_barco(barco_5, tablero_manual)\n",
    "tablero_manual = colocar_barco(barco_6, tablero_manual)"
   ]
  },
  {
   "cell_type": "code",
   "execution_count": 80,
   "metadata": {},
   "outputs": [
    {
     "name": "stdout",
     "output_type": "stream",
     "text": [
      "[['_' 'O' '_' '_' '_' '_' '_' '_' '_' 'O']\n",
      " ['_' 'O' '_' 'O' 'O' 'O' 'O' '_' '_' 'O']\n",
      " ['_' '_' '_' '_' '_' '_' '_' '_' '_' 'O']\n",
      " ['_' '_' '_' '_' '_' '_' '_' '_' '_' '_']\n",
      " ['_' '_' '_' '_' 'O' 'O' '_' '_' '_' '_']\n",
      " ['_' '_' '_' '_' '_' '_' '_' '_' '_' '_']\n",
      " ['_' '_' '_' '_' '_' '_' '_' '_' '_' '_']\n",
      " ['_' '_' '_' '_' '_' '_' '_' '_' '_' '_']\n",
      " ['_' 'O' 'O' 'O' '_' '_' '_' '_' 'O' 'O']\n",
      " ['_' '_' '_' '_' '_' '_' '_' '_' '_' '_']]\n"
     ]
    }
   ],
   "source": [
    "print(tablero_manual)"
   ]
  },
  {
   "cell_type": "code",
   "execution_count": 81,
   "metadata": {},
   "outputs": [],
   "source": [
    "def disparar(casilla,tablero):\n",
    "    if tablero[casilla] == \"O\":\n",
    "        print(\"Tocado\")\n",
    "        tablero[casilla] = \"X\"\n",
    "    else:\n",
    "        print(\"Agua\")\n",
    "        tablero[casilla] = \"A\"\n",
    "    return tablero"
   ]
  },
  {
   "cell_type": "markdown",
   "metadata": {},
   "source": [
    "Aqui creamos de forma aleatoria los barcos para posicionarlos."
   ]
  },
  {
   "cell_type": "code",
   "execution_count": 82,
   "metadata": {},
   "outputs": [],
   "source": [
    "import random"
   ]
  },
  {
   "cell_type": "code",
   "execution_count": 116,
   "metadata": {},
   "outputs": [],
   "source": [
    "def crear_barco(eslora):\n",
    "    barco=[]\n",
    "    casilla_0 = (random.randint(0,9), random.randint(0,9))\n",
    "    orientacion = random.choice([\"Vertical\", \"Horizontal\"])\n",
    "\n",
    "    barco = [casilla_0] # ya tenemos la primera casilla de nuestro barco\n",
    "\n",
    "    casilla = casilla_0 \n",
    "    while len(barco) < eslora:\n",
    "        if orientacion == \"Vertical\" == casilla[0]+1 <= 9:\n",
    "            casilla = (casilla[0]+1, casilla[1])\n",
    "            barco.append(casilla) # Vertical\n",
    "        elif orientacion == \"Horizontal\" == casilla[1]+1 <= 9:\n",
    "            casilla = (casilla[0], casilla[1]+1)\n",
    "            barco.append(casilla) # Horizontal\n",
    "        else:\n",
    "            casilla_0 = (random.randint(0,9), random.randint(0,9))\n",
    "    return barco"
   ]
  },
  {
   "cell_type": "code",
   "execution_count": 117,
   "metadata": {},
   "outputs": [
    {
     "ename": "KeyboardInterrupt",
     "evalue": "",
     "output_type": "error",
     "traceback": [
      "\u001b[1;31m---------------------------------------------------------------------------\u001b[0m",
      "\u001b[1;31mKeyboardInterrupt\u001b[0m                         Traceback (most recent call last)",
      "Input \u001b[1;32mIn [117]\u001b[0m, in \u001b[0;36m<cell line: 1>\u001b[1;34m()\u001b[0m\n\u001b[1;32m----> 1\u001b[0m \u001b[43mcrear_barco\u001b[49m\u001b[43m(\u001b[49m\u001b[38;5;241;43m2\u001b[39;49m\u001b[43m)\u001b[49m\n",
      "Input \u001b[1;32mIn [116]\u001b[0m, in \u001b[0;36mcrear_barco\u001b[1;34m(eslora)\u001b[0m\n\u001b[0;32m     11\u001b[0m     casilla \u001b[38;5;241m=\u001b[39m (casilla[\u001b[38;5;241m0\u001b[39m]\u001b[38;5;241m+\u001b[39m\u001b[38;5;241m1\u001b[39m, casilla[\u001b[38;5;241m1\u001b[39m])\n\u001b[0;32m     12\u001b[0m     barco\u001b[38;5;241m.\u001b[39mappend(casilla) \u001b[38;5;66;03m# Vertical\u001b[39;00m\n\u001b[1;32m---> 13\u001b[0m \u001b[38;5;28;01melif\u001b[39;00m orientacion \u001b[38;5;241m==\u001b[39m \u001b[38;5;124m\"\u001b[39m\u001b[38;5;124mHorizontal\u001b[39m\u001b[38;5;124m\"\u001b[39m \u001b[38;5;241m==\u001b[39m \u001b[43mcasilla\u001b[49m\u001b[43m[\u001b[49m\u001b[38;5;241;43m1\u001b[39;49m\u001b[43m]\u001b[49m\u001b[38;5;241;43m+\u001b[39;49m\u001b[38;5;241;43m1\u001b[39;49m \u001b[38;5;241m<\u001b[39m\u001b[38;5;241m=\u001b[39m \u001b[38;5;241m9\u001b[39m:\n\u001b[0;32m     14\u001b[0m     casilla \u001b[38;5;241m=\u001b[39m (casilla[\u001b[38;5;241m0\u001b[39m], casilla[\u001b[38;5;241m1\u001b[39m]\u001b[38;5;241m+\u001b[39m\u001b[38;5;241m1\u001b[39m)\n\u001b[0;32m     15\u001b[0m     barco\u001b[38;5;241m.\u001b[39mappend(casilla) \u001b[38;5;66;03m# Horizontal\u001b[39;00m\n",
      "\u001b[1;31mKeyboardInterrupt\u001b[0m: "
     ]
    }
   ],
   "source": [
    "crear_barco(2)"
   ]
  },
  {
   "cell_type": "code",
   "execution_count": 108,
   "metadata": {},
   "outputs": [
    {
     "name": "stdout",
     "output_type": "stream",
     "text": [
      "barcos_pc\n",
      "[[(1, 5), (1, 6)], [(4, 8), (4, 9)], [(2, 8), (2, 9)], [(8, 0), (8, 1), (8, 2)], [(3, 7), (3, 8), (3, 9)], [(1, 1), (1, 2), (1, 3), (1, 4)]]\n",
      "barcos_user\n",
      "[[(1, 5), (1, 6)], [(4, 8), (4, 9)], [(2, 8), (2, 9)], [(8, 0), (8, 1), (8, 2)], [(3, 7), (3, 8), (3, 9)], [(1, 1), (1, 2), (1, 3), (1, 4)], [(6, 9), (6, 10)], [(7, 1), (7, 2)], [(6, 9), (6, 10)], [(8, 3), (8, 4), (8, 5)], [(7, 3), (7, 4), (7, 5)], [(3, 4), (3, 5), (3, 6), (3, 7)]]\n"
     ]
    }
   ],
   "source": [
    "def barcos(lista_barcos=[]):\n",
    "    barcos=(2,2,2,3,3,4)\n",
    "    for barco in barcos:\n",
    "        lista_barcos.append(crear_barco(barco))\n",
    "    return lista_barcos\n",
    "\n",
    "barcos_pc=barcos()\n",
    "print(\"barcos_pc\")\n",
    "print(barcos_pc)\n",
    "\n",
    "\n",
    "barcos_user=barcos()\n",
    "print(\"barcos_user\")\n",
    "print(barcos_user)\n"
   ]
  },
  {
   "cell_type": "code",
   "execution_count": 114,
   "metadata": {},
   "outputs": [
    {
     "name": "stdout",
     "output_type": "stream",
     "text": [
      "[(1, 5), (1, 6)]\n",
      "[(4, 8), (4, 9)]\n",
      "[(2, 8), (2, 9)]\n",
      "[(8, 0), (8, 1), (8, 2)]\n",
      "[(3, 7), (3, 8), (3, 9)]\n",
      "[(1, 1), (1, 2), (1, 3), (1, 4)]\n",
      "[(6, 9), (6, 10)]\n"
     ]
    },
    {
     "ename": "IndexError",
     "evalue": "index 10 is out of bounds for axis 1 with size 10",
     "output_type": "error",
     "traceback": [
      "\u001b[1;31m---------------------------------------------------------------------------\u001b[0m",
      "\u001b[1;31mIndexError\u001b[0m                                Traceback (most recent call last)",
      "Input \u001b[1;32mIn [114]\u001b[0m, in \u001b[0;36m<cell line: 1>\u001b[1;34m()\u001b[0m\n\u001b[0;32m      1\u001b[0m \u001b[38;5;28;01mfor\u001b[39;00m barco \u001b[38;5;129;01min\u001b[39;00m barcos_pc:\n\u001b[0;32m      2\u001b[0m     \u001b[38;5;28mprint\u001b[39m(barco)\n\u001b[1;32m----> 3\u001b[0m     tablero_pc\u001b[38;5;241m=\u001b[39m\u001b[43mcolocar_barco\u001b[49m\u001b[43m(\u001b[49m\u001b[43mbarco\u001b[49m\u001b[43m,\u001b[49m\u001b[43mtablero_pc\u001b[49m\u001b[43m)\u001b[49m\n\u001b[0;32m      5\u001b[0m \u001b[38;5;28mprint\u001b[39m(tablero_pc)\n",
      "Input \u001b[1;32mIn [102]\u001b[0m, in \u001b[0;36mcolocar_barco\u001b[1;34m(barco, tablero)\u001b[0m\n\u001b[0;32m      1\u001b[0m \u001b[38;5;28;01mdef\u001b[39;00m \u001b[38;5;21mcolocar_barco\u001b[39m(barco, tablero):\n\u001b[0;32m      2\u001b[0m     \u001b[38;5;28;01mfor\u001b[39;00m coordenada \u001b[38;5;129;01min\u001b[39;00m barco:\n\u001b[1;32m----> 3\u001b[0m         tablero[coordenada] \u001b[38;5;241m=\u001b[39m \u001b[38;5;124m\"\u001b[39m\u001b[38;5;124mO\u001b[39m\u001b[38;5;124m\"\u001b[39m\n\u001b[0;32m      4\u001b[0m     \u001b[38;5;28;01mreturn\u001b[39;00m tablero\n",
      "\u001b[1;31mIndexError\u001b[0m: index 10 is out of bounds for axis 1 with size 10"
     ]
    }
   ],
   "source": [
    "for barco in barcos_pc:\n",
    "    print(barco)\n",
    "    tablero_pc=colocar_barco(barco,tablero_pc)\n",
    "\n",
    "print(tablero_pc)"
   ]
  }
 ],
 "metadata": {
  "kernelspec": {
   "display_name": "Python 3",
   "language": "python",
   "name": "python3"
  },
  "language_info": {
   "codemirror_mode": {
    "name": "ipython",
    "version": 3
   },
   "file_extension": ".py",
   "mimetype": "text/x-python",
   "name": "python",
   "nbconvert_exporter": "python",
   "pygments_lexer": "ipython3",
   "version": "3.9.13"
  }
 },
 "nbformat": 4,
 "nbformat_minor": 2
}
